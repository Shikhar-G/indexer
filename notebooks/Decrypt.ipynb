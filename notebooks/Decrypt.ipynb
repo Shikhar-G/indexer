{
 "cells": [
  {
   "cell_type": "markdown",
   "source": [],
   "metadata": {
    "collapsed": false
   },
   "id": "a6abf5e2da1b3214"
  },
  {
   "cell_type": "code",
   "outputs": [
    {
     "name": "stdout",
     "output_type": "stream",
     "text": [
      "CqUBCqIBCjcvY29zbW9zLmRpc3RyaWJ1dGlvbi52MWJldGExLk1zZ1dpdGhkcmF3RGVsZWdhdG9yUmV3YXJkEmcKLm1pZ2Fsb28xdDV6Z25mejBqcnZmbHl3am1nczk1cmV5M3VuNTduNDI1bjhncGYSNW1pZ2Fsb292YWxvcGVyMTQwbDZ5MmdwM2d4dmF5NnF0bjcwcmU3ejJzMGduNTd6bnU3ajN5EmoKUApGCh8vY29zbW9zLmNyeXB0by5zZWNwMjU2azEuUHViS2V5EiMKIQI1Wby7r/SGOtQgRDKeUlBSSkqkeXOy6dAjgh1e3mMafBIECgIIfxh5EhYKEAoGdXdoYWxlEgYzMjUyNjIQju0TGkC6/gK+0Fx1QaXCipT8nkQ4Y1Al2211f2/JW0r6kSzt7wqaJy1e+uMAMf7Ryxf5exvSaWurzo19kXauoJ/pUEH/\n"
     ]
    }
   ],
   "source": [
    "# This program read a json file, and isolates the txs special key, then checks to see if the txs key empty or contains characters. If the key is empty, then the program will return an a message saying \"no transactions found\", if the program contains a transaction, then it will remove any unnecessary characters and then assign the transaction to variable \"code\"\n",
    "\n",
    "import json\n",
    "def process_transaction_data(file_path):\n",
    "# Reads a JSON file containing transaction data and processes it.\n",
    "#Args:file_path (str): Path to the JSON file.\n",
    "#Returns:str: Concatenated transaction data or an empty string if no transactions found.\n",
    "    try:\n",
    "        with open(file_path, 'r') as json_file:\n",
    "            data = json.load(json_file)\n",
    "            transaction = data['block']['data']['txs']\n",
    "\n",
    "            if len(transaction) > 0: \n",
    "                return ''.join(map(str, transaction)) # remove unnecessary symbols\n",
    "            else:\n",
    "                return \"No transactions found.\"\n",
    "    except FileNotFoundError:\n",
    "        return \"File not found.\"\n",
    "\n",
    "# Example usage\n",
    "file_path = 'C:/Users/lmhmo/indexer/blocks/5845389.json'\n",
    "code = process_transaction_data(file_path)\n",
    "print(code)"
   ],
   "metadata": {
    "collapsed": false,
    "ExecuteTime": {
     "end_time": "2024-03-07T16:39:30.378344300Z",
     "start_time": "2024-03-07T16:39:30.373777400Z"
    }
   },
   "id": "bcd1285b0b55b4f4",
   "execution_count": 28
  },
  {
   "cell_type": "code",
   "outputs": [
    {
     "name": "stdout",
     "output_type": "stream",
     "text": [
      "1\n",
      "Here is number 1 transaction\n",
      "\n",
      "{\n",
      "  \"tx\": {\n",
      "    \"body\": {\n",
      "      \"messages\": [\n",
      "        {\n",
      "          \"@type\": \"/cosmos.distribution.v1beta1.MsgWithdrawDelegatorReward\",\n",
      "          \"delegator_address\": \"migaloo1t5zgnfz0jrvflywjmgs95rey3un57n425n8gpf\",\n",
      "          \"validator_address\": \"migaloovaloper140l6y2gp3gxvay6qtn70re7z2s0gn57znu7j3y\"\n",
      "        }\n",
      "      ],\n",
      "      \"memo\": \"\",\n",
      "      \"timeout_height\": \"0\",\n",
      "      \"extension_options\": [],\n",
      "      \"non_critical_extension_options\": []\n",
      "    },\n",
      "    \"auth_info\": {\n",
      "      \"signer_infos\": [\n",
      "        {\n",
      "          \"public_key\": {\n",
      "            \"@type\": \"/cosmos.crypto.secp256k1.PubKey\",\n",
      "            \"key\": \"AjVZvLuv9IY61CBEMp5SUFJKSqR5c7Lp0COCHV7eYxp8\"\n",
      "          },\n",
      "          \"mode_info\": {\n",
      "            \"single\": {\n",
      "              \"mode\": \"SIGN_MODE_LEGACY_AMINO_JSON\"\n",
      "            }\n",
      "          },\n",
      "          \"sequence\": \"121\"\n",
      "        }\n",
      "      ],\n",
      "      \"fee\": {\n",
      "        \"amount\": [\n",
      "          {\n",
      "            \"denom\": \"uwhale\",\n",
      "            \"amount\": \"325262\"\n",
      "          }\n",
      "        ],\n",
      "        \"gas_limit\": \"325262\",\n",
      "        \"payer\": \"\",\n",
      "        \"granter\": \"\"\n",
      "      },\n",
      "      \"tip\": null\n",
      "    },\n",
      "    \"signatures\": [\n",
      "      \"uv4CvtBcdUGlwoqU/J5EOGNQJdttdX9vyVtK+pEs7e8KmictXvrjADH+0csX+Xsb0mlrq86NfZF2rqCf6VBB/w==\"\n",
      "    ]\n",
      "  }\n",
      "}\n"
     ]
    }
   ],
   "source": [
    "# this program send the encrypted transaction information contained in variable \"code\" to a url address that will decrypt the transaction and return the translated information\n",
    "import requests\n",
    "import json\n",
    "def decode_transactions(tx):\n",
    "    url = \"https://phoenix-lcd.terra.dev/cosmos/tx/v1beta1/decode\" \n",
    "    headers = {'Content-Type': 'application/json'}\n",
    "    data = json.dumps({\"tx_bytes\": tx})\n",
    "\n",
    "    response = requests.post(url, headers=headers, data=data) #send to be decoded\n",
    "    return response.json() \n",
    "\n",
    "# if $code contain multiple elements(transactions), split it\n",
    "code = code.split()\n",
    "many = len(code)\n",
    "print(many)\n",
    "\n",
    "for i in range(many):\n",
    "    # let decoded_response be the decoded string\n",
    "    decoded_response = decode_transactions(code[i])\n",
    "\n",
    "    # Print it in JSON type-\n",
    "    print(f'Here is number {i+1} transaction\\n')\n",
    "    print(json.dumps(decoded_response, indent=2))\n",
    "    "
   ],
   "metadata": {
    "collapsed": false,
    "ExecuteTime": {
     "end_time": "2024-03-07T16:39:32.587280900Z",
     "start_time": "2024-03-07T16:39:31.951433Z"
    }
   },
   "id": "c6679b01e9377784",
   "execution_count": 29
  },
  {
   "cell_type": "code",
   "outputs": [
    {
     "name": "stdout",
     "output_type": "stream",
     "text": [
      "Number of transactions: 1\n",
      "Transaction 1 decoded and saved to decoded_transaction_1.json\n"
     ]
    }
   ],
   "source": [],
   "metadata": {
    "collapsed": false,
    "ExecuteTime": {
     "end_time": "2024-03-07T16:34:51.285707500Z",
     "start_time": "2024-03-07T16:34:50.808438400Z"
    }
   },
   "id": "4c7a88223fbdb280",
   "execution_count": 22
  },
  {
   "cell_type": "code",
   "outputs": [
    {
     "name": "stdout",
     "output_type": "stream",
     "text": [
      "Data saved to C:/Users/lmhmo/indexer/Decrypted_files\\decoded_transaction_1.json\n"
     ]
    }
   ],
   "source": [],
   "metadata": {
    "collapsed": false,
    "ExecuteTime": {
     "end_time": "2024-03-07T16:34:54.515001100Z",
     "start_time": "2024-03-07T16:34:54.506612600Z"
    }
   },
   "id": "b60203ad8de39bcd",
   "execution_count": 23
  },
  {
   "cell_type": "code",
   "outputs": [],
   "source": [],
   "metadata": {
    "collapsed": false
   },
   "id": "2c776b115b79a026"
  }
 ],
 "metadata": {
  "kernelspec": {
   "display_name": "Python 3",
   "language": "python",
   "name": "python3"
  },
  "language_info": {
   "codemirror_mode": {
    "name": "ipython",
    "version": 2
   },
   "file_extension": ".py",
   "mimetype": "text/x-python",
   "name": "python",
   "nbconvert_exporter": "python",
   "pygments_lexer": "ipython2",
   "version": "2.7.6"
  }
 },
 "nbformat": 4,
 "nbformat_minor": 5
}
